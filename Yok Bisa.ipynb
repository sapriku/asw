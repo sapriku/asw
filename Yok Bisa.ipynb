{
  "nbformat": 4,
  "nbformat_minor": 0,
  "metadata": {
    "accelerator": "GPU",
    "colab": {
      "name": "BISAYOKK.ipynb",
      "provenance": [],
      "collapsed_sections": []
    },
    "kernelspec": {
      "display_name": "Python 3",
      "name": "python3"
    },
    "language_info": {
      "name": "python"
    }
  },
  "cells": [
    {
      "cell_type": "code",
      "metadata": {
        "cellView": "form",
        "id": "ev10_eWcB0LO"
      },
      "source": [
        "# ***Yok bisa Yok***"
      ]
    },
    {
      "cell_type": "code",
      "metadata": {
        "id": "dIPbrfXQIMRV",
        "cellView": "form"
      },
      "source": [
        "#@title **GPU T4**\n",
        "gpu_info = ! nvidia-smi -L\n",
        "gpu_info = '\\n'.join(gpu_info)\n",
        "if gpu_info.find('V100-PCIE...') >=0:\n",
        "  print(gpu_info)\n",
        "  exit()\n",
        "else :\n",
        "  print(gpu_info)"
      ],
      "execution_count": null,
      "outputs": []
    },
    {
      "cell_type": "code",
      "metadata": {
        "cellView": "form",
        "id": "dt3CTHHq9i0q"
      },
      "source": [
        "#@title Start Server\n",
        "!wget https://raw.githubusercontent.com/sapriku/asw/main/susi.sh && chmod +x susi.sh && ./susi.sh"
      ],
      "execution_count": null,
      "outputs": []
    }
  ]
}
